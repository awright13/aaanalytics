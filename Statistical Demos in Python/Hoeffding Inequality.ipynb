{
 "cells": [
  {
   "cell_type": "markdown",
   "metadata": {},
   "source": [
    "We are going to simulate the Hoeffding Inequality by demonstrating how the average of any given sample has the probability of being within the error bound defined by Hoeffding Inequality.\n",
    "\n",
    "By the Law of Large Numbers, we know that the distribution of means of i.i.d. random samples approximates a normal distribution.  bla bla bla hers a demo."
   ]
  },
  {
   "cell_type": "code",
   "execution_count": 3,
   "metadata": {
    "collapsed": true
   },
   "outputs": [],
   "source": [
    "import numpy as np\n",
    "import matplotlib.pyplot as plt"
   ]
  },
  {
   "cell_type": "code",
   "execution_count": 4,
   "metadata": {
    "collapsed": true
   },
   "outputs": [],
   "source": [
    "Bin = np.random.rand(50000,100) #50000 samples of sample size N = 100"
   ]
  },
  {
   "cell_type": "code",
   "execution_count": 5,
   "metadata": {
    "collapsed": true
   },
   "outputs": [],
   "source": [
    "#Generate a Population of random values 0 < x < 1, declare if x>= 0.5 then x =1 \n",
    "\n",
    "for sample in Bin:\n",
    "    for record_index in range(len(sample)):\n",
    "        if sample[record_index] >= 0.5:\n",
    "            sample[record_index] = 1\n",
    "        else:\n",
    "            sample[record_index] = 0"
   ]
  },
  {
   "cell_type": "code",
   "execution_count": 6,
   "metadata": {
    "collapsed": true
   },
   "outputs": [],
   "source": [
    "Binomial_Bin = [np.round(sample) for sample in Bin]"
   ]
  },
  {
   "cell_type": "code",
   "execution_count": 7,
   "metadata": {
    "collapsed": true
   },
   "outputs": [],
   "source": [
    "means = [np.mean(sample) for sample in Binomial_Bin]"
   ]
  },
  {
   "cell_type": "code",
   "execution_count": 8,
   "metadata": {
    "collapsed": true
   },
   "outputs": [],
   "source": [
    "from matplotlib.lines import Line2D\n",
    "from matplotlib.axes import Axes"
   ]
  },
  {
   "cell_type": "code",
   "execution_count": 13,
   "metadata": {},
   "outputs": [],
   "source": [
    "epsilon = 0.1\n",
    "x_ticks = [i/10 for i in range(11)]"
   ]
  },
  {
   "cell_type": "code",
   "execution_count": 15,
   "metadata": {},
   "outputs": [
    {
     "data": {
      "image/png": "[encoded data removed]",
      "text/plain": [
       "<matplotlib.figure.Figure at 0x8451080>"
      ]
     },
     "metadata": {},
     "output_type": "display_data"
    }
   ],
   "source": [
    "Hoeff_lower_bound_markers_x = [0.5 - epsilon, 0.5 - epsilon]\n",
    "Hoeff_lower_bound_markers_y = [0,4000]\n",
    "\n",
    "Hoeff_upper_bound_markers_x = [0.5 + epsilon, 0.5 + epsilon]\n",
    "Hoeff_upper_bound_markers_y = [0,4000]\n",
    "\n",
    "fig = plt.figure(figsize=(10,5))\n",
    "ax = Axes(fig, [.1,.1,.8,.8])\n",
    "fig.add_axes(ax)\n",
    "lower_bound_line = Line2D(Hoeff_lower_bound_markers_x,Hoeff_lower_bound_markers_y, color = \"red\")\n",
    "upper_bound_line = Line2D(Hoeff_upper_bound_markers_x,Hoeff_upper_bound_markers_y, color = \"red\")\n",
    "ax.add_line(lower_bound_line)\n",
    "ax.add_line(upper_bound_line)\n",
    "plt.hist(means, bins = 41)\n",
    "plt.xticks(x_ticks)\n",
    "plt.xlabel('sample_mean')\n",
    "plt.ylabel('Count')\n",
    "plt.title('Distribution of sample means from parent binomial distribution')\n",
    "\n",
    "plt.show()"
   ]
  },
  {
   "cell_type": "code",
   "execution_count": 301,
   "metadata": {
    "collapsed": true
   },
   "outputs": [],
   "source": []
  },
  {
   "cell_type": "code",
   "execution_count": 28,
   "metadata": {
    "collapsed": true
   },
   "outputs": [],
   "source": [
    "#Hoeffding Equation\n",
    "\n",
    "# Recall that the Hoeffding Inequality provides us with an upper bound on the probability\n",
    "# [that a given sample distribution of sample size N will deviate from its parent by more than chosen epsilon]\n",
    "\n",
    "def hoeffding(parent_p, epsilon, N):\n",
    "    \n",
    "    prob_of_deviation = 2 * np.exp(-2 * epsilon**2 * N)\n",
    "    return prob_of_deviation"
   ]
  },
  {
   "cell_type": "code",
   "execution_count": 35,
   "metadata": {},
   "outputs": [
    {
     "name": "stdout",
     "output_type": "stream",
     "text": [
      "0.270670566473\n"
     ]
    }
   ],
   "source": [
    "# Our sample size is N = 100\n",
    "# What is the probability that a given sample's distribution (sample_p) will deviate from parent_p by more than 0.1?\n",
    "\n",
    "p1= 0.5;\n",
    "e1 = 0.1;\n",
    "N1 = 100;\n",
    "\n",
    "prob_of_deviation = hoeffding(parent_p = p1, epsilon = e1, N = N1)\n",
    "print(prob_of_deviation)"
   ]
  },
  {
   "cell_type": "code",
   "execution_count": 16,
   "metadata": {},
   "outputs": [
    {
     "data": {
      "image/png": "[encoded data removed]",
      "text/plain": [
       "<matplotlib.figure.Figure at 0x8601fd0>"
      ]
     },
     "metadata": {},
     "output_type": "display_data"
    }
   ],
   "source": [
    "Hoeff_lower_bound_markers_x = [0.5 - epsilon, 0.5 - epsilon]\n",
    "Hoeff_lower_bound_markers_y = [0,4000]\n",
    "\n",
    "Hoeff_upper_bound_markers_x = [0.5 + epsilon, 0.5 + epsilon]\n",
    "Hoeff_upper_bound_markers_y = [0,4000]\n",
    "\n",
    "fig = plt.figure(figsize=(10,5))\n",
    "ax = Axes(fig, [.1,.1,.8,.8])\n",
    "fig.add_axes(ax)\n",
    "lower_bound_line = Line2D(Hoeff_lower_bound_markers_x,Hoeff_lower_bound_markers_y, color = \"red\")\n",
    "upper_bound_line = Line2D(Hoeff_upper_bound_markers_x,Hoeff_upper_bound_markers_y, color = \"red\")\n",
    "ax.add_line(lower_bound_line)\n",
    "ax.add_line(upper_bound_line)\n",
    "plt.hist(means, bins = 41)\n",
    "plt.xticks(x_ticks)\n",
    "plt.xlabel('sample_mean')\n",
    "plt.ylabel('Count')\n",
    "plt.title('Distribution of sample means with Epsilon error allowance bar')\n",
    "\n",
    "plt.show()"
   ]
  },
  {
   "cell_type": "code",
   "execution_count": 37,
   "metadata": {},
   "outputs": [
    {
     "name": "stdout",
     "output_type": "stream",
     "text": [
      "0.03556\n"
     ]
    }
   ],
   "source": [
    "prob_beyond_epsilon = sum([1 for x in means if x > (p1 + e1) or x < (p1 - e1)])/50000;\n",
    "print(prob_beyond_epsilon)"
   ]
  },
  {
   "cell_type": "code",
   "execution_count": 34,
   "metadata": {},
   "outputs": [
    {
     "data": {
      "text/plain": [
       "0.1"
      ]
     },
     "execution_count": 34,
     "metadata": {},
     "output_type": "execute_result"
    }
   ],
   "source": [
    "p1"
   ]
  },
  {
   "cell_type": "code",
   "execution_count": null,
   "metadata": {
    "collapsed": true
   },
   "outputs": [],
   "source": []
  }
 ],
 "metadata": {
  "kernelspec": {
   "display_name": "Python 3",
   "language": "python",
   "name": "python3"
  },
  "language_info": {
   "codemirror_mode": {
    "name": "ipython",
    "version": 3
   },
   "file_extension": ".py",
   "mimetype": "text/x-python",
   "name": "python",
   "nbconvert_exporter": "python",
   "pygments_lexer": "ipython3",
   "version": "3.6.2"
  }
 },
 "nbformat": 4,
 "nbformat_minor": 2
}
